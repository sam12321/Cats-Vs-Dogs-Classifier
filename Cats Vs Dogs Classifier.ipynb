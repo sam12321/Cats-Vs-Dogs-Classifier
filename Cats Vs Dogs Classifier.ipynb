{
 "cells": [
  {
   "cell_type": "markdown",
   "metadata": {},
   "source": [
    "# CATS VS DOGS CLASSIFIER\n",
    "-------------------"
   ]
  },
  {
   "cell_type": "markdown",
   "metadata": {},
   "source": [
    "### Let's import the modules"
   ]
  },
  {
   "cell_type": "code",
   "execution_count": 113,
   "metadata": {
    "scrolled": false
   },
   "outputs": [],
   "source": [
    "import numpy as np\n",
    "import matplotlib.pyplot as plt\n",
    "import pandas as pd\n",
    "import tensorflow as tf\n",
    "import keras as kr\n",
    "from PIL import Image"
   ]
  },
  {
   "cell_type": "markdown",
   "metadata": {},
   "source": [
    "# Retrieving data"
   ]
  },
  {
   "cell_type": "markdown",
   "metadata": {},
   "source": [
    "dataset link: https://www.kaggle.com/tongpython/cat-and-dog"
   ]
  },
  {
   "cell_type": "code",
   "execution_count": 114,
   "metadata": {},
   "outputs": [],
   "source": [
    "# as our data is in the form of images we create a function which gets all the images and create it in the form of numpy arrays\n",
    "import os\n",
    "def make_dataset(file,x):        # if x is 0- training images are fetched and if 1- test images are fetched\n",
    "    ls=[]\n",
    "    if x==0:\n",
    "        folder=r\"C:\\Users\\bhavy\\OneDrive\\Documents\\catsvsdogs_train\\{}\".format(file)\n",
    "    elif x==1:\n",
    "        folder=r\"C:\\Users\\bhavy\\OneDrive\\Documents\\catsvsdogs_test\\{}\".format(file)\n",
    "    files=os.listdir(folder)    # lists all the elements in the given path\n",
    "    files=list(map(lambda x: os.path.join(folder,x),files))   # joins path and image name\n",
    "    a=(len(files))\n",
    "    for i in range(a):\n",
    "        img=Image.open(files[i])\n",
    "        img=img.resize((64,64))\n",
    "        img=np.array(img)\n",
    "        ls.append(img)\n",
    "        \n",
    "    return ls"
   ]
  },
  {
   "cell_type": "code",
   "execution_count": 1,
   "metadata": {},
   "outputs": [],
   "source": [
    "import os\n",
    "def md(file,x):\n",
    "    ls=[]\n",
    "    folder\n",
    "    file=os.listdir(folder)\n",
    "    files==list(map(lambda x:os.path.join(folder,x),files))\n",
    "    a=(len(files))"
   ]
  },
  {
   "cell_type": "code",
   "execution_count": 115,
   "metadata": {},
   "outputs": [],
   "source": [
    "# Creating the training datasets\n",
    "cat_train_data=make_dataset('training_set\\cats',0)\n",
    "dog_train_data=make_dataset('training_set\\dogs',0)"
   ]
  },
  {
   "cell_type": "code",
   "execution_count": 116,
   "metadata": {},
   "outputs": [],
   "source": [
    "# Creating the test datasets\n",
    "cat_test_data=make_dataset('test_set\\cats',1)\n",
    "dog_test_data=make_dataset('test_set\\dogs',1)"
   ]
  },
  {
   "cell_type": "markdown",
   "metadata": {},
   "source": [
    "# Analyzing our datasets"
   ]
  },
  {
   "cell_type": "code",
   "execution_count": 117,
   "metadata": {},
   "outputs": [
    {
     "data": {
      "text/plain": [
       "4000"
      ]
     },
     "execution_count": 117,
     "metadata": {},
     "output_type": "execute_result"
    }
   ],
   "source": [
    "# finding lengths of our datasets\n",
    "len(cat_train_data)"
   ]
  },
  {
   "cell_type": "code",
   "execution_count": 118,
   "metadata": {},
   "outputs": [
    {
     "data": {
      "text/plain": [
       "4005"
      ]
     },
     "execution_count": 118,
     "metadata": {},
     "output_type": "execute_result"
    }
   ],
   "source": [
    "len(dog_train_data)"
   ]
  },
  {
   "cell_type": "code",
   "execution_count": 119,
   "metadata": {},
   "outputs": [
    {
     "data": {
      "text/plain": [
       "1011"
      ]
     },
     "execution_count": 119,
     "metadata": {},
     "output_type": "execute_result"
    }
   ],
   "source": [
    "len(cat_test_data)"
   ]
  },
  {
   "cell_type": "code",
   "execution_count": 120,
   "metadata": {},
   "outputs": [
    {
     "data": {
      "text/plain": [
       "1012"
      ]
     },
     "execution_count": 120,
     "metadata": {},
     "output_type": "execute_result"
    }
   ],
   "source": [
    "len(dog_test_data)"
   ]
  },
  {
   "cell_type": "code",
   "execution_count": 121,
   "metadata": {},
   "outputs": [
    {
     "data": {
      "text/plain": [
       "(64, 64, 3)"
      ]
     },
     "execution_count": 121,
     "metadata": {},
     "output_type": "execute_result"
    }
   ],
   "source": [
    "# checking shape of single image\n",
    "dog_train_data[0].shape"
   ]
  },
  {
   "cell_type": "code",
   "execution_count": 122,
   "metadata": {},
   "outputs": [
    {
     "data": {
      "text/plain": [
       "<matplotlib.image.AxesImage at 0x13bd949b8c8>"
      ]
     },
     "execution_count": 122,
     "metadata": {},
     "output_type": "execute_result"
    },
    {
     "data": {
      "image/png": "[encoded data removed]",
      "text/plain": [
       "<Figure size 432x288 with 1 Axes>"
      ]
     },
     "metadata": {
      "needs_background": "light"
     },
     "output_type": "display_data"
    }
   ],
   "source": [
    "# here is a demo of an image\n",
    "plt.imshow(dog_train_data[1])"
   ]
  },
  {
   "cell_type": "code",
   "execution_count": 123,
   "metadata": {},
   "outputs": [
    {
     "data": {
      "text/plain": [
       "8005"
      ]
     },
     "execution_count": 123,
     "metadata": {},
     "output_type": "execute_result"
    }
   ],
   "source": [
    "# combining images of cats and dogs in single training and testing datasets\n",
    "train_data=cat_train_data+dog_train_data\n",
    "len(train_data)"
   ]
  },
  {
   "cell_type": "code",
   "execution_count": 124,
   "metadata": {},
   "outputs": [
    {
     "data": {
      "text/plain": [
       "2023"
      ]
     },
     "execution_count": 124,
     "metadata": {},
     "output_type": "execute_result"
    }
   ],
   "source": [
    "test_data=cat_test_data+dog_test_data\n",
    "len(test_data)"
   ]
  },
  {
   "cell_type": "code",
   "execution_count": 125,
   "metadata": {},
   "outputs": [],
   "source": [
    "# Converting them into np arrays\n",
    "train_data=np.array(train_data,dtype=float)\n",
    "test_data=np.array(test_data,dtype=float)"
   ]
  },
  {
   "cell_type": "code",
   "execution_count": 126,
   "metadata": {},
   "outputs": [],
   "source": [
    "# now creating labels i.e target for each dataset\n",
    "label_train=np.zeros(train_data.shape[0])\n",
    "label_test=np.zeros(test_data.shape[0])"
   ]
  },
  {
   "cell_type": "code",
   "execution_count": 127,
   "metadata": {},
   "outputs": [
    {
     "data": {
      "text/plain": [
       "8005"
      ]
     },
     "execution_count": 127,
     "metadata": {},
     "output_type": "execute_result"
    }
   ],
   "source": [
    "len(label_train)"
   ]
  },
  {
   "cell_type": "code",
   "execution_count": 128,
   "metadata": {},
   "outputs": [
    {
     "data": {
      "text/plain": [
       "2023"
      ]
     },
     "execution_count": 128,
     "metadata": {},
     "output_type": "execute_result"
    }
   ],
   "source": [
    "len(label_test)"
   ]
  },
  {
   "cell_type": "code",
   "execution_count": 129,
   "metadata": {},
   "outputs": [],
   "source": [
    "# labelling the dog images as 1\n",
    "label_train[4000:]=1\n",
    "label_test[1011:]=1"
   ]
  },
  {
   "cell_type": "code",
   "execution_count": 130,
   "metadata": {},
   "outputs": [
    {
     "data": {
      "text/plain": [
       "1.0"
      ]
     },
     "execution_count": 130,
     "metadata": {},
     "output_type": "execute_result"
    }
   ],
   "source": [
    "label_train[5520]"
   ]
  },
  {
   "cell_type": "code",
   "execution_count": 131,
   "metadata": {},
   "outputs": [
    {
     "data": {
      "text/plain": [
       "(8005, 64, 64, 3)"
      ]
     },
     "execution_count": 131,
     "metadata": {},
     "output_type": "execute_result"
    }
   ],
   "source": [
    "train_data.shape"
   ]
  },
  {
   "cell_type": "code",
   "execution_count": 132,
   "metadata": {},
   "outputs": [],
   "source": [
    "# now we need to randomize our test and train datasets"
   ]
  },
  {
   "cell_type": "code",
   "execution_count": 133,
   "metadata": {},
   "outputs": [
    {
     "name": "stdout",
     "output_type": "stream",
     "text": [
      "(8005,) (8005, 64, 64, 3)\n"
     ]
    }
   ],
   "source": [
    "# randomizing train data\n",
    "a=train_data.shape[0]\n",
    "i=np.random.permutation(a)\n",
    "train_x,train_y=train_data[i],label_train[i]\n",
    "print(train_y.shape,train_x.shape)"
   ]
  },
  {
   "cell_type": "code",
   "execution_count": 134,
   "metadata": {},
   "outputs": [
    {
     "name": "stdout",
     "output_type": "stream",
     "text": [
      "(2023,) (2023, 64, 64, 3)\n"
     ]
    }
   ],
   "source": [
    "# randomizing test data\n",
    "a=test_data.shape[0]\n",
    "i=np.random.permutation(a)\n",
    "test_x,test_y=test_data[i],label_test[i]\n",
    "print(test_y.shape,test_x.shape)"
   ]
  },
  {
   "cell_type": "code",
   "execution_count": 135,
   "metadata": {},
   "outputs": [],
   "source": [
    "num_classes=2   # num classes contains the number of outputs\n",
    "ytrain=kr.utils.to_categorical(train_y,num_classes)\n",
    "ytest=kr.utils.to_categorical(test_y,num_classes)"
   ]
  },
  {
   "cell_type": "markdown",
   "metadata": {},
   "source": [
    "## CREATING A CNN MODEL"
   ]
  },
  {
   "cell_type": "code",
   "execution_count": 136,
   "metadata": {},
   "outputs": [],
   "source": [
    "# importing layers from keras for our neural network\n",
    "from keras.layers import  Dense, Dropout, Activation, Flatten\n",
    "from keras.layers import Conv2D, MaxPooling2D"
   ]
  },
  {
   "cell_type": "code",
   "execution_count": 137,
   "metadata": {},
   "outputs": [],
   "source": [
    "cnn_model=kr.models.Sequential()    # creating neural network\n",
    "\n",
    "# Convolution Layer\n",
    "cnn_model.add(Conv2D(32,(3,3), input_shape=(64,64,3) ,activation='relu'))\n",
    "# Pooling layer\n",
    "cnn_model.add(MaxPooling2D(pool_size=(2,2)))\n",
    "# Adding a second Convolution Layer\n",
    "cnn_model.add(Conv2D(32,(3,3) ,activation='relu'))\n",
    "# Adding another Pooling layer\n",
    "cnn_model.add(MaxPooling2D(pool_size=(2,2)))\n",
    "# Flattening\n",
    "cnn_model.add(Flatten())\n",
    "# Adding Dense layers\n",
    "cnn_model.add(Dense(units=128,activation='relu'))\n",
    "cnn_model.add(Dense(units=num_classes,activation='sigmoid'))\n"
   ]
  },
  {
   "cell_type": "code",
   "execution_count": 138,
   "metadata": {},
   "outputs": [],
   "source": [
    "# Compiling our model\n",
    "cnn_model.compile(optimizer='adam',loss='binary_crossentropy',metrics=['accuracy'])"
   ]
  },
  {
   "cell_type": "code",
   "execution_count": 139,
   "metadata": {},
   "outputs": [
    {
     "name": "stdout",
     "output_type": "stream",
     "text": [
      "WARNING:tensorflow:From C:\\Users\\bhavy\\Anaconda3\\lib\\site-packages\\keras\\backend\\tensorflow_backend.py:422: The name tf.global_variables is deprecated. Please use tf.compat.v1.global_variables instead.\n",
      "\n",
      "Train on 8005 samples, validate on 2023 samples\n",
      "Epoch 1/16\n",
      "8005/8005 [==============================] - 27s 3ms/step - loss: 2.5945 - accuracy: 0.5503 - val_loss: 0.6786 - val_accuracy: 0.5685\n",
      "Epoch 2/16\n",
      "8005/8005 [==============================] - 26s 3ms/step - loss: 0.6407 - accuracy: 0.6270 - val_loss: 0.6724 - val_accuracy: 0.5917\n",
      "Epoch 3/16\n",
      "8005/8005 [==============================] - 27s 3ms/step - loss: 0.5627 - accuracy: 0.6974 - val_loss: 0.7002 - val_accuracy: 0.6063\n",
      "Epoch 4/16\n",
      "8005/8005 [==============================] - 26s 3ms/step - loss: 0.4443 - accuracy: 0.7794 - val_loss: 0.7454 - val_accuracy: 0.6172\n",
      "Epoch 5/16\n",
      "8005/8005 [==============================] - 25s 3ms/step - loss: 0.3296 - accuracy: 0.8518 - val_loss: 0.8992 - val_accuracy: 0.6263\n",
      "Epoch 6/16\n",
      "8005/8005 [==============================] - 25s 3ms/step - loss: 0.2349 - accuracy: 0.8977 - val_loss: 1.0188 - val_accuracy: 0.6248\n",
      "Epoch 7/16\n",
      "8005/8005 [==============================] - 25s 3ms/step - loss: 0.1493 - accuracy: 0.9402 - val_loss: 1.2801 - val_accuracy: 0.6354\n",
      "Epoch 8/16\n",
      "8005/8005 [==============================] - 25s 3ms/step - loss: 0.1326 - accuracy: 0.9503 - val_loss: 1.2990 - val_accuracy: 0.6466\n",
      "Epoch 9/16\n",
      "8005/8005 [==============================] - 26s 3ms/step - loss: 0.0926 - accuracy: 0.9673 - val_loss: 1.7104 - val_accuracy: 0.6248\n",
      "Epoch 10/16\n",
      "8005/8005 [==============================] - 27s 3ms/step - loss: 0.1033 - accuracy: 0.9634 - val_loss: 1.9027 - val_accuracy: 0.6204\n",
      "Epoch 11/16\n",
      "8005/8005 [==============================] - 28s 3ms/step - loss: 0.1298 - accuracy: 0.9503 - val_loss: 1.8495 - val_accuracy: 0.6159\n",
      "Epoch 12/16\n",
      "8005/8005 [==============================] - 28s 4ms/step - loss: 0.0615 - accuracy: 0.9788 - val_loss: 2.0316 - val_accuracy: 0.6275\n",
      "Epoch 13/16\n",
      "8005/8005 [==============================] - 28s 4ms/step - loss: 0.0726 - accuracy: 0.9765 - val_loss: 2.3055 - val_accuracy: 0.6191\n",
      "Epoch 14/16\n",
      "8005/8005 [==============================] - 30s 4ms/step - loss: 0.0904 - accuracy: 0.9690 - val_loss: 2.1529 - val_accuracy: 0.6253\n",
      "Epoch 15/16\n",
      "8005/8005 [==============================] - 29s 4ms/step - loss: 0.0532 - accuracy: 0.9828 - val_loss: 2.1814 - val_accuracy: 0.6270\n",
      "Epoch 16/16\n",
      "8005/8005 [==============================] - 28s 4ms/step - loss: 0.0477 - accuracy: 0.9839 - val_loss: 2.5634 - val_accuracy: 0.6181\n"
     ]
    },
    {
     "data": {
      "text/plain": [
       "<keras.callbacks.callbacks.History at 0x13bdf5fee48>"
      ]
     },
     "execution_count": 139,
     "metadata": {},
     "output_type": "execute_result"
    }
   ],
   "source": [
    "# Training our model with the training images\n",
    "batch_size=32\n",
    "epochs=16\n",
    "cnn_model.fit(train_x,ytrain,epochs=epochs,batch_size=batch_size\n",
    "              ,validation_data=(test_x,ytest),shuffle=True)"
   ]
  },
  {
   "cell_type": "code",
   "execution_count": 140,
   "metadata": {},
   "outputs": [
    {
     "name": "stdout",
     "output_type": "stream",
     "text": [
      "2023/2023 [==============================] - 2s 820us/step\n",
      "[2.563394788595573, 0.6181413531303406]\n"
     ]
    }
   ],
   "source": [
    "# checking the models performance for test  data\n",
    "score=cnn_model.evaluate(test_x,ytest,verbose=1)\n",
    "print(score)"
   ]
  },
  {
   "cell_type": "markdown",
   "metadata": {},
   "source": [
    "# Predicting values"
   ]
  },
  {
   "cell_type": "code",
   "execution_count": 141,
   "metadata": {},
   "outputs": [
    {
     "data": {
      "text/plain": [
       "array([[1.3274819e-02, 9.8290431e-01],\n",
       "       [9.5070779e-01, 3.7796617e-02],\n",
       "       [9.9973154e-01, 1.0082126e-04],\n",
       "       [1.1782646e-03, 9.9775362e-01],\n",
       "       [1.1026859e-06, 9.9999976e-01]], dtype=float32)"
      ]
     },
     "execution_count": 141,
     "metadata": {},
     "output_type": "execute_result"
    }
   ],
   "source": [
    "# predicting values for test dataset\n",
    "pred_values=cnn_model.predict(test_x)\n",
    "pred_values[:5]"
   ]
  },
  {
   "cell_type": "code",
   "execution_count": 142,
   "metadata": {},
   "outputs": [],
   "source": [
    "# Converting output into integer values\n",
    "pred=[]\n",
    "for i in range(len(pred_values)):\n",
    "    pred.append(np.where(pred_values[i]==np.amax(pred_values[i]))[0][0])  # GETS THE PREDICTED VALUE FROM PRED_VALUES ARRAY\n",
    "pred=np.array(pred)"
   ]
  },
  {
   "cell_type": "code",
   "execution_count": 143,
   "metadata": {},
   "outputs": [
    {
     "data": {
      "text/plain": [
       "(array([False,  True]), array([ 767, 1256], dtype=int64))"
      ]
     },
     "execution_count": 143,
     "metadata": {},
     "output_type": "execute_result"
    }
   ],
   "source": [
    "# Finding how many values have been predicted correctly\n",
    "np.unique(pred==test_y,return_counts=True)"
   ]
  }
 ],
 "metadata": {
  "kernelspec": {
   "display_name": "Python 3",
   "language": "python",
   "name": "python3"
  },
  "language_info": {
   "codemirror_mode": {
    "name": "ipython",
    "version": 3
   },
   "file_extension": ".py",
   "mimetype": "text/x-python",
   "name": "python",
   "nbconvert_exporter": "python",
   "pygments_lexer": "ipython3",
   "version": "3.7.6"
  }
 },
 "nbformat": 4,
 "nbformat_minor": 4
}
